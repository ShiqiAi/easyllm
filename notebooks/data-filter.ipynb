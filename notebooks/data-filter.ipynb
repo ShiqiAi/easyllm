{
 "cells": [
  {
   "cell_type": "markdown",
   "metadata": {},
   "source": [
    "# How to use EasyLLM Quality data filters\n",
    "\n",
    "EasyLLMs `data` package adds quality filters for preprocessing text data for improved pretraining. "
   ]
  },
  {
   "cell_type": "code",
   "execution_count": null,
   "metadata": {},
   "outputs": [],
   "source": [
    "!pip install \"easyllm[data]\" --upgrade"
   ]
  },
  {
   "cell_type": "markdown",
   "metadata": {},
   "source": [
    "## 1. Perplexity filtering\n",
    "\n",
    "Perplexity filtering can be used to improve model quality, coherence, and training efficiency by removing confusing text segments and focusing model learning on more standard, comprehensible language.\n",
    "Perplexity filtering is implemented using `KenLM` models trained on wikipedia. You just need to provide your language id, e.g. `de` and your perplexity `min_threshold` and `max_threshold` the filter will return `True` if the perplexity of the text outside of the threshold `False` otherwise.\n"
   ]
  },
  {
   "cell_type": "code",
   "execution_count": 2,
   "metadata": {},
   "outputs": [
    {
     "name": "stdout",
     "output_type": "stream",
     "text": [
      "341.3\n",
      "46793.5\n"
     ]
    }
   ],
   "source": [
    "from easyllm.data.filters import PerplexityFilter\n",
    "\n",
    "ppl = PerplexityFilter(\"en\",min_threshold=10,max_threshold=1000)\n",
    "\n",
    "# Get perplexity\n",
    "print(ppl.model.get_perplexity(\"I am very perplexed\"))\n",
    "# 341.3 (low perplexity, since sentence style is formal and with no grammar mistakes)\n",
    "\n",
    "print(ppl.model.get_perplexity(\"im hella trippin\"))\n",
    "# 46793.5 (high perplexity, since the sentence is colloquial and contains grammar mistakes)\n",
    "\n",
    "# testing the filter\n",
    "assert ppl(\"I am very perplexed\") == False\n"
   ]
  },
  {
   "cell_type": "markdown",
   "metadata": {},
   "source": [
    "## NonAlphaNumericFilter\n",
    "\n",
    "The `NonAlphaNumericFilter` removes documents based on the number of non-alphanumeric characters in the document. Based on [Gopher (Rae et al., 2021)](https://arxiv.org/pdf/2112.11446.pdf), if the document has more then 20% non-alphanumeric characters, it is removed."
   ]
  },
  {
   "cell_type": "code",
   "execution_count": 1,
   "metadata": {},
   "outputs": [],
   "source": [
    "from easyllm.data.filters import NonAlphaNumericFilter\n",
    "\n",
    "nam = NonAlphaNumericFilter()\n",
    "\n",
    "# not filtered\n",
    "assert nam(\"This is a test\") == False\n",
    "\n",
    "# filtered\n",
    "assert nam(\"This is a test!!!!!!!\") == True\n"
   ]
  },
  {
   "cell_type": "markdown",
   "metadata": {},
   "source": [
    "## SymbolToWordFilter\n",
    "\n",
    "The `SymbolToWordFilter` removes any document with a symbol-to-word ratio greater than 0.1 for either the hash symbol or the ellipsis.Based on [Gopher (Rae et al., 2021)](https://arxiv.org/pdf/2112.11446.pdf)"
   ]
  },
  {
   "cell_type": "code",
   "execution_count": 1,
   "metadata": {},
   "outputs": [],
   "source": [
    "from easyllm.data.filters import SymbolToWordFilter\n",
    "\n",
    "stw = SymbolToWordFilter()\n",
    "\n",
    "assert stw(\"This is a test\") == False\n",
    "\n",
    "assert stw(\"spam#spam#spam#spam#spam#spam#spam#spam\") == True"
   ]
  },
  {
   "cell_type": "markdown",
   "metadata": {},
   "source": [
    "## NumbersToCharacterFilter\n",
    "\n",
    "The `NumbersToCharacterFilter` removes any document where the 20% of the document are numbers."
   ]
  },
  {
   "cell_type": "code",
   "execution_count": 1,
   "metadata": {},
   "outputs": [
    {
     "name": "stdout",
     "output_type": "stream",
     "text": [
      "num_digits: 13\n",
      "total_chars: 66\n",
      "num_digits / total_chars: 0.19696969696969696\n",
      "num_digits: 10\n",
      "total_chars: 18\n",
      "num_digits / total_chars: 0.5555555555555556\n"
     ]
    }
   ],
   "source": [
    "from easyllm.data.filters import DigitToCharacter\n",
    "\n",
    "ntw = DigitToCharacter()\n",
    "\n",
    "assert ntw(\"Hello 123 world 456 this text 789 contains 1234 numbers more words\") == False\n",
    "\n",
    "assert ntw(\"Hello 34534 34534 \") == True\n"
   ]
  },
  {
   "cell_type": "code",
   "execution_count": null,
   "metadata": {},
   "outputs": [],
   "source": []
  }
 ],
 "metadata": {
  "kernelspec": {
   "display_name": "dev",
   "language": "python",
   "name": "python3"
  },
  "language_info": {
   "codemirror_mode": {
    "name": "ipython",
    "version": 3
   },
   "file_extension": ".py",
   "mimetype": "text/x-python",
   "name": "python",
   "nbconvert_exporter": "python",
   "pygments_lexer": "ipython3",
   "version": "3.9.13"
  },
  "orig_nbformat": 4
 },
 "nbformat": 4,
 "nbformat_minor": 2
}
